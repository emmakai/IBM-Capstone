{
 "cells": [
  {
   "cell_type": "markdown",
   "metadata": {},
   "source": [
    "# Capstone Project: Find Similar Neighborhoods\n",
    "\n",
    "By Yuxiao Gao\n",
    "\n",
    "\n"
   ]
  },
  {
   "cell_type": "markdown",
   "metadata": {},
   "source": [
    "\n",
    "\n",
    "## Introduction"
   ]
  },
  {
   "cell_type": "markdown",
   "metadata": {},
   "source": [
    "Takumen is a casual, contemporary Izakaya-style Japanese restaurant in Long Island City, a neighborhood in the Queens borough of New York City. It features ramens, poké bowls, sake and craft beers. On Google Maps it has a very high rating, 4.5 out of 5. \n",
    "\n",
    "\n",
    "The success of Takumen may well thank to its location. The neighborhood, Long Island City, is just right across East River of Manhattan, and therefore becomes a very popular place of living of young professionals. Rent is reasonable, and the area is less populated. It has less dining places and coffee shops compared to Manhattan in general. So, Takumen faces less fierce restaurants competitions, yet the neighborhood residents can afford to pay and enjoy a casual, contemporary Japanese dining experience. "
   ]
  },
  {
   "cell_type": "markdown",
   "metadata": {},
   "source": [
    "Now the owners of Takumen is ready to open their second restaurant in New York City. They want to borrow from Takumen's success and carefully pick a similar neighborhood in the city. Since Long Island City is in Queens borough, and Bronx is too far from most of the popular sites, the owners will specifically consider neighborhoods in Manhattan and northern Brooklyn. "
   ]
  },
  {
   "cell_type": "markdown",
   "metadata": {},
   "source": [
    "In this project, I will use geospacial data and economic data to measure the similarity of neighborhoods in the following aspects:"
   ]
  },
  {
   "cell_type": "markdown",
   "metadata": {},
   "source": [
    "1. Rent\n",
    "\n",
    "   Average rent of a neighborhood is a good indicator of economic condition of the neighborhood. A wealthy neighborhood will have higher rent, and residents may have more to spare on dining. But on the other hand, cost of opening a restaurant will be higher too. Thus, a similar level of rent compared to Long Island City is ideal. \n",
    "   \n",
    "\n",
    "2. Other restaurants\n",
    "\n",
    "   How much competition will the new Takumen face in the neighborhood? How many of existing restaurants are Asian restaurants and thus be more relavent competitors of Takumen?\n",
    "   \n",
    "   \n",
    "3. Other popular venues\n",
    "\n",
    "   Is it more of a residential neighborhood, a business and commercial neighborhood, or a shopping and dining neighborhood?"
   ]
  },
  {
   "cell_type": "markdown",
   "metadata": {},
   "source": [
    "Finally, similar neighborhood will be clustered and visualized on a map of New York City.\n",
    "\n",
    "<p>&nbsp;</p>"
   ]
  },
  {
   "cell_type": "markdown",
   "metadata": {},
   "source": [
    "## Data"
   ]
  },
  {
   "cell_type": "markdown",
   "metadata": {},
   "source": [
    "CityRealty is a popular real estate website. It collects rent and sale information. Conveniently, it lists Manhattan and Northern Brooklyn average apartment rent information by neighborhoods. The data is of February 2019. Since this project will use rent as comparison among neighborhoods, 2019 data is acceptable. \n",
    "\n",
    "Foursquare location data provides venue locations, categories, and ratings. The dataset is also updated constantly, so the information is up-to-date. In this project, Foursquare location data will be used to cluster restaruant competition and neighborhood popular venues. Since the rent data is from February 2019, I will use February 2019 version of Foursquare data. \n",
    "\n",
    "In addition, neighborhood geo location data is collected from and Spatial Data Repository of NYU and Google Maps. Since rent data is harder to find than geo location data, I used neighborhood partition by the rent dataset.   \n",
    "\n",
    "<p>&nbsp;</p>"
   ]
  },
  {
   "cell_type": "markdown",
   "metadata": {},
   "source": [
    "## Method"
   ]
  },
  {
   "cell_type": "markdown",
   "metadata": {},
   "source": [
    "#### Data preparation: Rent"
   ]
  },
  {
   "cell_type": "markdown",
   "metadata": {},
   "source": [
    "By a first glance of the average rent of each neighborhood, I found out that some studio and 3 bedroom rent is missing for some neighborhood. 1 bedroom and 2 bedroom apartments are more common, thus the data should be more reliable than studios and 3 bedrooms. Thus, in comparison of rent levels, data for studios and 3 bedrooms are dropped. All the rest of the data is normalized. "
   ]
  },
  {
   "cell_type": "markdown",
   "metadata": {},
   "source": [
    "Immediately after normalization, Long Island City posed as an affordable neighborhood among all the neighborhoods in the dataset, with indicators of only 0.28 and 0.29 for 1 bedroom apartments and 2 bedroom apartments. It's above the 25% but lower than 50% percentile. "
   ]
  },
  {
   "cell_type": "markdown",
   "metadata": {},
   "source": [
    "#### Data preparation: Venues"
   ]
  },
  {
   "cell_type": "markdown",
   "metadata": {},
   "source": [
    "1. Restaurant competitions\n",
    "\n",
    "   I explore 30 restaurants in each neighborhood, and relabled all asian restaurants in one group, \"Asian Restaurants\". Then the ratio of asian restaurants and total number of restaurants is calculated for each neighborhood, stored separately in three columns, namely \"Asian Restaurant Counts\", \"Total Restaurant Counts\", and \"Asian Restaurant PCT\". Some neighborhoods don't have a single asian taste place. One neighborhood doesn't even have a restaurant, which is the Roosevelt Island, a small piece of residential area between Manhattan and Queens. Here, all missing data is filled with zero. \n",
    "   \n",
    "   Long Island City has in total 7 restaurants, and 3 of them are asian restaurants. Among all the neighborhoods, Long Island City has one of the highest ratio of asian restaurants to total restaurants."
   ]
  },
  {
   "cell_type": "markdown",
   "metadata": {},
   "source": [
    "2. Most popular venues in neighborhoods\n",
    "\n",
    "   I gathered 100 venues for each neighborhood, and ranked top 15 popular venues. I one hot coded the categories and get the frequencies for each venue category for each neighborhood. \n",
    "   \n",
    "   From frequencies of top venues for each neighborhood, difference between each neighborhood starts to show. For example, Long Island City's top venues are hotels, coffee shops, bars, pizza places, and cafés. The neighborhood is very relaxing and residency friendly. On the contrary, SOHO's top venues are clothing stores, Italian restaurants, boutiques, coffee shops, and cosmetic shops. It's a lot more commercial than Long Island City. "
   ]
  },
  {
   "cell_type": "markdown",
   "metadata": {},
   "source": [
    "#### Building model: K-Means Clustering"
   ]
  },
  {
   "cell_type": "markdown",
   "metadata": {},
   "source": [
    "K-Means clustering algorithm is used in this project. Since the goal is to find similar neighborhood in terms of rents and venues, Long Island City is listed as one of the neighborhood. After clustering, neighborhoods in the same cluster with Long Island City will be considered potential neighborhoods to open the new Takumen restaurant. "
   ]
  },
  {
   "cell_type": "markdown",
   "metadata": {},
   "source": [
    "After data preparation, two important dataframes are generated. \"df_neighborhood\" contains neighborhoods data (neighborhood name, borough, latitude, longitude), normalized rent data (1 bedroom apartment rent, 2 bedroom apartment rent), restaurant competition data (number of asian restaurants, number of total restaurants, percentage of asian restaurants), and first to 15th common venues. \"df_kmeans\" is one hot coded dataset, including the same neighborhoods data, normalized rent data, restaurant competition data, and frequencies of each venue category in each neighborhood. It is the dataset from where features of K-Means clustering are drawn. "
   ]
  },
  {
   "cell_type": "markdown",
   "metadata": {},
   "source": [
    "I excluded neighborhood data from df_kmeans dataset to generate feature dataset X, then fit and trained K-Means model with number of cluster from 1 to 10. Euclidean distance is used in evaluating each model. K values and distortions are listed below:\n",
    "\n",
    "      \n",
    "  \n",
    "      1 : 7.677323229842826\n",
    "      2 : 4.1560487790151015\n",
    "      3 : 3.1277847349533032\n",
    "      4 : 2.576973876467541\n",
    "      5 : 1.9033142257362188\n",
    "      6 : 1.730833637467119\n",
    "      7 : 1.5774003581972293\n",
    "      8 : 1.432883223329601\n",
    "      9 : 1.3037567227002564\n",
    "      10 : 1.175022228721088\n",
    "\n"
   ]
  },
  {
   "cell_type": "markdown",
   "metadata": {},
   "source": [
    "After examining the figure of different k values and distortions, k is set at 5. The cluster label for each neighborhood is added to \"df_neighborhood\" dataframe. \n",
    "\n",
    "\n",
    "|<img src='https://github.com/emmakai/IBM-Capstone/blob/927070bf8a42236f0a8acbe5f74fe00ca6c46add/C9-Analysis-Scoreeshot%202.png?raw=true' alt='Appendix 2' width=400 /> |\n",
    "|:--:| \n",
    "| *Fig 1. The Elbow Method* |"
   ]
  },
  {
   "cell_type": "markdown",
   "metadata": {},
   "source": [
    "Finally, neighborhoods are drawn onto a New York City map, with colors assigned to each neighborhood cluster.    \n",
    "\n",
    "  \n",
    "\n",
    "<p>&nbsp;</p>"
   ]
  },
  {
   "cell_type": "markdown",
   "metadata": {},
   "source": [
    "## Result"
   ]
  },
  {
   "cell_type": "markdown",
   "metadata": {},
   "source": [
    "Three neighborhoods are clustered together with Long Island City: Roosevelt Island of Manhattan, Red Hook of Brooklyn, and Windsor Terrace of Brooklyn. Their rent, competition and top 5 most common venue information is attached below. "
   ]
  },
  {
   "cell_type": "markdown",
   "metadata": {},
   "source": [
    "|<img src=\"https://github.com/emmakai/IBM-Capstone/blob/927070bf8a42236f0a8acbe5f74fe00ca6c46add/C9-Analysis-Screenshot%201.png?raw=true\" alt=\"apendix 1\" width=\"800\"/>|\n",
    "|:--:|\n",
    "|*Fig 2. Cluster 3*|\n"
   ]
  },
  {
   "cell_type": "markdown",
   "metadata": {},
   "source": [
    "A map of clustered neighborhoods (and a zoomed map) is presented below."
   ]
  },
  {
   "cell_type": "markdown",
   "metadata": {},
   "source": [
    "<table><tr>\n",
    "<td> <img src='https://github.com/emmakai/IBM-Capstone/blob/927070bf8a42236f0a8acbe5f74fe00ca6c46add/C9-Analysis-Screenshot%204.png?raw=true' alt='Appendix 4' width='800'/> Fig 4.\n",
    "<td> <img src='https://github.com/emmakai/IBM-Capstone/blob/927070bf8a42236f0a8acbe5f74fe00ca6c46add/C9-Analysis-Screenshot%203.png?raw=true' alt='Appendix 3' width='800'/> Fig 5.\n",
    "</tr></table>   \n"
   ]
  },
  {
   "cell_type": "markdown",
   "metadata": {},
   "source": [
    "Each dots represent one neighborhood, and neighborhoods with the same dot color are in the same cluster. Long Island City is the sky blue dots to the most right. The dot slightly above it also in sky blue is Roosevelt Island. With the two other sky blue dots on the bottom of the map, Red Hook and Windsor Terrace, are cluster 3. These four neighborhoods should have similar level of rent, restaurant competition, and popular venues."
   ]
  },
  {
   "cell_type": "markdown",
   "metadata": {},
   "source": [
    "<p>&nbsp;</p>"
   ]
  },
  {
   "cell_type": "markdown",
   "metadata": {},
   "source": [
    "## Discussion"
   ]
  },
  {
   "cell_type": "markdown",
   "metadata": {},
   "source": [
    "#### Roosevelt Island"
   ]
  },
  {
   "cell_type": "markdown",
   "metadata": {},
   "source": [
    "If we refer to the table in figure 2, we can see that both apartment rents Roosevelt Island are slightly above Long Island City, and there is no restaurant there. On the map, Roosevelt Island is the thin isolated neighborhood located between Manhattan and Queens. This can be seen as an oppotunity as well as a risk. A slightly higher rent may still in the afforable cost of new Takumen, but residents in the community may have more budget to spend on dining than Long Island City residents. Similarly, there's no restaurant yet in the neighborhood, and thus Takumen has no business to model after in the neighborhood. On the other hand, residents would also only be left with Takumen if they choose to dine in their neighborhood. I would recommend conduct a further research on dining behaviors of residents living in the neighborhood."
   ]
  },
  {
   "cell_type": "markdown",
   "metadata": {},
   "source": [
    "#### Red Hook and Windsor Terrace"
   ]
  },
  {
   "cell_type": "markdown",
   "metadata": {},
   "source": [
    "Both neighborhoods are very similar to Long Island City. But judging from the common venues of the neighborhoods, Red Hook seems to have a younger and artistic vibe. It has art gallery, flower shop, wine shop, park, and bar listed in  top 10 common venues, whereas Windsor Terrace is more residential (diner, grocery store, café). Red Hook so far only has 2 restaurants, and neither of them is Asian cuisine. Windsor Terrace has more dining options, and the 2 Asian restaurants guarantee acceptance of Asian cuisine. In the next research, I would recommend look at Red Hook residents' dining taste, and Windsor Terrace demand on Asian dining options (whether or not 2 existing restaurants are enough for the opitions)."
   ]
  },
  {
   "cell_type": "markdown",
   "metadata": {},
   "source": [
    "#### About Data"
   ]
  },
  {
   "cell_type": "markdown",
   "metadata": {},
   "source": [
    "1. Rent data\n",
    "\n",
    "   In this project, I only used 1 bedroom and 2 bedroom apartment rent data. It can be a strong indicator of restaurant rent costs as well as residents purchasing power, but I expect some variance from it. In following research, I would recommend directly estimating restaurant cost in different location, as well as using household income of each neighborhood.\n",
    "\n",
    "\n",
    "2. Restaurant competition\n",
    "\n",
    "   Foursqure API has data on venue ratings and tips using premium calls. Due to limitation of type of calls I can make in the project, ratings and tips are not included. However, these data is also very relavent in concluding strong suggestions. I would recommend look into these going further."
   ]
  },
  {
   "cell_type": "markdown",
   "metadata": {},
   "source": [
    "<p>&nbsp;</p>"
   ]
  },
  {
   "cell_type": "markdown",
   "metadata": {},
   "source": [
    "## Conclusion"
   ]
  },
  {
   "cell_type": "markdown",
   "metadata": {},
   "source": [
    "Takumen restaurant in Long Island City is doing very well in its neighborhood. The owners are considering opening a new restaurant in a similar neighborhood and continue Takumen's success. The analysis looks at average apartment rent, number of restaurant, and common venues of the neighborhoods in Manhattan and northern Brooklyn. The project mainly uses the k-means clustering algorithm, along with some descriptive data. At first glance at the result, Roosevelt Island of Manhattan, Red Hook and Windsor Terrace of Brooklyn show similarities with Long Island City. In the research of next step, I would recommond look deeper into residents dining behavior, as well as directly estimate restaurant costs of the selected neighborhoods. "
   ]
  },
  {
   "cell_type": "code",
   "execution_count": null,
   "metadata": {},
   "outputs": [],
   "source": []
  }
 ],
 "metadata": {
  "kernelspec": {
   "display_name": "Python 3.6",
   "language": "python",
   "name": "python3"
  },
  "language_info": {
   "codemirror_mode": {
    "name": "ipython",
    "version": 3
   },
   "file_extension": ".py",
   "mimetype": "text/x-python",
   "name": "python",
   "nbconvert_exporter": "python",
   "pygments_lexer": "ipython3",
   "version": "3.6.9"
  }
 },
 "nbformat": 4,
 "nbformat_minor": 4
}
