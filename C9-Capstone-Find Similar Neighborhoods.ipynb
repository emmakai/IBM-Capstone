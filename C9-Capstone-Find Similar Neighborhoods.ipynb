{
 "cells": [
  {
   "cell_type": "markdown",
   "metadata": {},
   "source": [
    "# Capstone Project: Find Similar Neighborhoods\n",
    "\n",
    "By Yuxiao Gao\n",
    "\n",
    "\n"
   ]
  },
  {
   "cell_type": "markdown",
   "metadata": {},
   "source": [
    "\n",
    "\n",
    "## Introduction"
   ]
  },
  {
   "cell_type": "markdown",
   "metadata": {},
   "source": [
    "Takumen is a casual, contemporary Izakaya-style Japanese restaurant in Long Island City, a neighborhood in the Queens borough of New York City. It features ramens, poké bowls, sake and craft beers. On Google Maps it has a very high rating, 4.5 out of 5. \n",
    "\n",
    "\n",
    "The success of Takumen may well thank to its location. The neighborhood, Long Island City, is just right across East River of Manhattan, and therefore becomes a very popular place of living of young professionals. Rent is reasonable, and the area is less populated. It has less dining places and coffee shops compared to Manhattan in general. So, Takumen faces less fierce restaurants competitions, yet the neighborhood residents can afford to pay and enjoy a casual, contemporary Japanese dining experience. "
   ]
  },
  {
   "cell_type": "markdown",
   "metadata": {},
   "source": [
    "Now the owners of Takumen is ready to open their second restaurant in New York City. They want to borrow from Takumen's success and carefully pick a similar neighborhood in the city. Since Long Island City is in Queens borough, and Bronx is too far from most of the popular sites, the owners will specifically consider neighborhoods in Manhattan and Brooklyn. "
   ]
  },
  {
   "cell_type": "markdown",
   "metadata": {},
   "source": [
    "In this project, I will use geospacial data and economic data to measure the similarity of neighborhoods in the following aspects:"
   ]
  },
  {
   "cell_type": "markdown",
   "metadata": {},
   "source": [
    "1. Rent\n",
    "\n",
    "   Average rent of a neighborhood is considered a good measure of the economic status. A wealthy neighborhood will have higher rent, and residents may have more to spare on dining. But on the other hand, cost of the restaurant will be higher too. Thus, a similar level of rent compared to Long Island City is ideal. \n",
    "   \n",
    "\n",
    "2. Other restaurants\n",
    "\n",
    "   How much competition will the new Takumen face in the neighborhood? How are they rated by customers? \n",
    "   \n",
    "   \n",
    "3. Other popular venues\n",
    "\n",
    "   Is it more of a residential neighborhood, a business and commercial neighborhood, or a shopping and dining neighborhood?"
   ]
  },
  {
   "cell_type": "markdown",
   "metadata": {},
   "source": [
    "Finally, similar neighborhood will be clustered and visualized on a map of New York City."
   ]
  },
  {
   "cell_type": "markdown",
   "metadata": {},
   "source": [
    "## Data"
   ]
  },
  {
   "cell_type": "markdown",
   "metadata": {},
   "source": [
    "Foursquare location data provides venue locations, categories, and ratings. The dataset is also updated constantly, so the information is up-to-date. In this project, Foursquare location data will be used to cluster restaruant competition and neighborhood popular venues. \n",
    "\n",
    "CityRealty is a popular real estate website. It collects rent and sale information. Conveniently, it lists Manhattan and Northern Brooklyn average apartment rent information by neighborhoods. The data is of February 2019. Since this project will use rent as comparison among neighborhoods, 2019 data is acceptable. "
   ]
  },
  {
   "cell_type": "code",
   "execution_count": null,
   "metadata": {},
   "outputs": [],
   "source": []
  }
 ],
 "metadata": {
  "kernelspec": {
   "display_name": "Python 3",
   "language": "python",
   "name": "python3"
  },
  "language_info": {
   "codemirror_mode": {
    "name": "ipython",
    "version": 3
   },
   "file_extension": ".py",
   "mimetype": "text/x-python",
   "name": "python",
   "nbconvert_exporter": "python",
   "pygments_lexer": "ipython3",
   "version": "3.8.3"
  }
 },
 "nbformat": 4,
 "nbformat_minor": 4
}
